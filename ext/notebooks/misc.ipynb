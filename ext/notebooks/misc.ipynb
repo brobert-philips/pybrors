{
 "cells": [
  {
   "cell_type": "code",
   "execution_count": 1,
   "metadata": {},
   "outputs": [],
   "source": [
    "# Initial development for DicomFile\n",
    "\n",
    "# Import classes and methods\n",
    "from pybrors.misc import QRcode\n",
    "\n",
    "# Create QRcode instance\n",
    "tmp = QRcode()\n",
    "tmp.add_contact_vcard()\n",
    "tmp.add_logo(file_path=\"../data/misc/logo.jpg\")\n",
    "# tmp.add_logo()\n",
    "tmp.save_png(file_path=\"../data/misc/qrcode.png\")"
   ]
  },
  {
   "cell_type": "code",
   "execution_count": 2,
   "metadata": {},
   "outputs": [],
   "source": [
    "# Initial development for DicomFile\n",
    "\n",
    "# Import classes and methods\n",
    "from pybrors.misc import QRcode\n",
    "\n",
    "# Create QRcode instance\n",
    "tmp = QRcode()\n",
    "tmp.add_contact_vcard()\n",
    "tmp.save_png(file_path=\"../data/misc/qrcode.png\")"
   ]
  }
 ],
 "metadata": {
  "kernelspec": {
   "display_name": "Python 3",
   "language": "python",
   "name": "python3"
  },
  "language_info": {
   "codemirror_mode": {
    "name": "ipython",
    "version": 3
   },
   "file_extension": ".py",
   "mimetype": "text/x-python",
   "name": "python",
   "nbconvert_exporter": "python",
   "pygments_lexer": "ipython3",
   "version": "3.10.12"
  },
  "orig_nbformat": 4
 },
 "nbformat": 4,
 "nbformat_minor": 2
}
