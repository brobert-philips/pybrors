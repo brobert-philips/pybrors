{
 "cells": [
  {
   "cell_type": "code",
   "execution_count": null,
   "metadata": {},
   "outputs": [],
   "source": [
    "# Initial development for PubmedData\n",
    "\n",
    "# Import classes and methods\n",
    "from pybrors.pubmed import PubmedData\n",
    "\n",
    "# Create file instance\n",
    "tmp = PubmedData(file_path=\"../data/pubmed/references_millet.pubmed\")\n",
    "tmp.display_wordcloud()\n",
    "tmp.export_bibliography()"
   ]
  },
  {
   "cell_type": "code",
   "execution_count": null,
   "metadata": {},
   "outputs": [],
   "source": [
    "# Initial development for PubmedData\n",
    "\n",
    "# Import classes and methods\n",
    "from pybrors.pubmed import PubmedData\n",
    "\n",
    "# Create file instance\n",
    "tmp = PubmedData(dir_path=\"../data/pubmed\")\n",
    "# tmp.display_wordcloud()\n",
    "tmp.export_bibliography(file_path=\"../data/pubmed/pubmed_bibliography.xlsx\")"
   ]
  },
  {
   "cell_type": "code",
   "execution_count": null,
   "metadata": {},
   "outputs": [],
   "source": [
    "# Initial development for PubmedData\n",
    "\n",
    "# Import classes and methods\n",
    "from pybrors.pubmed import PubmedData\n",
    "\n",
    "# Create file instance\n",
    "pubmed_bib = PubmedData(dir_path=\"../data/pubmed\")\n",
    "\n",
    "# Display authors\n",
    "print(\"Author\")\n",
    "pubmed_bib.display_wordcloud(\n",
    "    data_type = \"author\",\n",
    "    remove_words=[\"taourel\", \"millet\", \"cyteval\"]\n",
    ")\n",
    "\n",
    "# Display journal\n",
    "print(\"Journal\")\n",
    "pubmed_bib.display_wordcloud(data_type = \"journal\")\n",
    "\n",
    "# Display title\n",
    "print(\"Title\")\n",
    "pubmed_bib.display_wordcloud(data_type = \"title\", remove_words=[\"children\"])\n"
   ]
  }
 ],
 "metadata": {
  "kernelspec": {
   "display_name": "Python 3",
   "language": "python",
   "name": "python3"
  },
  "language_info": {
   "codemirror_mode": {
    "name": "ipython",
    "version": 3
   },
   "file_extension": ".py",
   "mimetype": "text/x-python",
   "name": "python",
   "nbconvert_exporter": "python",
   "pygments_lexer": "ipython3",
   "version": "3.10.12"
  },
  "orig_nbformat": 4
 },
 "nbformat": 4,
 "nbformat_minor": 2
}
