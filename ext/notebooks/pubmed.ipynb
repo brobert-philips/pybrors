{
 "cells": [
  {
   "cell_type": "code",
   "execution_count": null,
   "metadata": {},
   "outputs": [],
   "source": [
    "# Initial development for PubmedData\n",
    "\n",
    "# Import classes and methods\n",
    "from pybrors.pubmed import PubmedData\n",
    "\n",
    "# Create file instance\n",
    "tmp = PubmedData(file_path=\"../data/pubmed/references_millet.pubmed\")\n",
    "print(tmp)\n",
    "tmp.display_wordcloud()\n"
   ]
  },
  {
   "cell_type": "code",
   "execution_count": null,
   "metadata": {},
   "outputs": [],
   "source": [
    "# Initial development for PubmedData\n",
    "\n",
    "# Import classes and methods\n",
    "from pybrors.pubmed import PubmedData\n",
    "\n",
    "# Create file instance\n",
    "tmp = PubmedData(dir_path=\"../data/pubmed\")\n",
    "print(tmp)\n",
    "tmp.display_wordcloud()"
   ]
  },
  {
   "cell_type": "code",
   "execution_count": null,
   "metadata": {},
   "outputs": [],
   "source": [
    "# Initial development for PubmedData\n",
    "\n",
    "# Import classes and methods\n",
    "from pybrors.pubmed import PubmedData\n",
    "\n",
    "# Create file instance\n",
    "pubmed_bib = PubmedData(file_path=\"/Users/brobert/Library/CloudStorage/OneDrive-Philips/Documents/Customers/France/75012_APHP/General/Pubmed/trousseau_ducoulepointe.pubmed\")\n",
    "\n",
    "# Display authors\n",
    "print(\"author\")\n",
    "pubmed_bib.display_wordcloud(type = \"author\", remove_words=[\"ducou_le_pointe\", \"le_pointe\"])\n",
    "\n",
    "# Display journal\n",
    "print(\"journal\")\n",
    "pubmed_bib.display_wordcloud(type = \"journal\")\n",
    "\n",
    "# Display title\n",
    "print(\"title\")\n",
    "pubmed_bib.display_wordcloud(type = \"title\", remove_words=[\"children\"])\n"
   ]
  }
 ],
 "metadata": {
  "kernelspec": {
   "display_name": "Python 3",
   "language": "python",
   "name": "python3"
  },
  "language_info": {
   "codemirror_mode": {
    "name": "ipython",
    "version": 3
   },
   "file_extension": ".py",
   "mimetype": "text/x-python",
   "name": "python",
   "nbconvert_exporter": "python",
   "pygments_lexer": "ipython3",
   "version": "3.10.12"
  },
  "orig_nbformat": 4
 },
 "nbformat": 4,
 "nbformat_minor": 2
}
