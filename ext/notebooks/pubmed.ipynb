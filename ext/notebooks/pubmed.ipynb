{
 "cells": [
  {
   "cell_type": "code",
   "execution_count": 10,
   "metadata": {},
   "outputs": [
    {
     "name": "stdout",
     "output_type": "stream",
     "text": [
      "<pybrors.pubmed.data.PubmedData object at 0x124e756f0>\n",
      "        PMID                                                 TI  \\\n",
      "0   35278098  forensic age assessments of alleged unaccompan...   \n",
      "1   34844893  prediction of clinical response to corticoster...   \n",
      "2   34432757  injury characteristics, initial clinical statu...   \n",
      "3   32826273  response to: 'case of postpartum axial spondyl...   \n",
      "4   32623059  applying an immersive tutorial in virtual real...   \n",
      "5   32522743  mri of sacroiliac joints for the diagnosis of ...   \n",
      "6   32461125  intradiscal glucocorticoids injection in chron...   \n",
      "7   31650264  value of ct to detect radiographically occult ...   \n",
      "8   30885592  five simultaneous artificial intelligence data...   \n",
      "9   30704946  comparison of bone lesion distribution between...   \n",
      "10  30413957  whole-body mri to assess bone involvement in p...   \n",
      "11  29479474  mri for diagnosis of axial spondyloarthritis: ...   \n",
      "12  28652054  coracoid bone block transfer procedure: correl...   \n",
      "13  28605526  anti-nxp2 antibody-associated extensive subcut...   \n",
      "\n",
      "                           TA  \\\n",
      "0             int j legal med   \n",
      "1        diagn interv imaging   \n",
      "2    j trauma acute care surg   \n",
      "3               ann rheum dis   \n",
      "4              neurochirurgie   \n",
      "5               ann rheum dis   \n",
      "6        ann phys rehabil med   \n",
      "7                  eur radiol   \n",
      "8        diagn interv imaging   \n",
      "9        diagn interv imaging   \n",
      "10                 eur radiol   \n",
      "11                   rmd open   \n",
      "12  orthop traumatol surg res   \n",
      "13      rheumatology (oxford)   \n",
      "\n",
      "                                                   JT   VI   IP           DP  \\\n",
      "0             international journal of legal medicine  136    3     2022 may   \n",
      "1               diagnostic and interventional imaging  103    4     2022 apr   \n",
      "2        the journal of trauma and acute care surgery   91    3   2021 sep 1   \n",
      "3                    annals of the rheumatic diseases  NaN  NaN  2020 aug 21   \n",
      "4                                     neuro-chirurgie   66    4     2020 aug   \n",
      "5                    annals of the rheumatic diseases   79    8     2020 aug   \n",
      "6      annals of physical and rehabilitation medicine   64    2     2021 mar   \n",
      "7                                  european radiology   30    2     2020 feb   \n",
      "8               diagnostic and interventional imaging  100    4     2019 apr   \n",
      "9               diagnostic and interventional imaging  100    5     2019 may   \n",
      "10                                 european radiology   29    8     2019 aug   \n",
      "11                                           rmd open    4    1         2018   \n",
      "12  orthopaedics & traumatology, surgery & researc...  103    6     2017 oct   \n",
      "13                     rheumatology (oxford, england)   56   10   2017 oct 1   \n",
      "\n",
      "                                                   SO  \\\n",
      "0   int j legal med. 2022 may;136(3):853-859. doi:...   \n",
      "1   diagn interv imaging. 2022 apr;103(4):217-224....   \n",
      "2   j trauma acute care surg. 2021 sep 1;91(3):527...   \n",
      "3   ann rheum dis. 2020 aug 21:annrheumdis-2020-21...   \n",
      "4   neurochirurgie. 2020 aug;66(4):212-218. doi: 1...   \n",
      "5   ann rheum dis. 2020 aug;79(8):1063-1069. doi: ...   \n",
      "6   ann phys rehabil med. 2021 mar;64(2):101396. d...   \n",
      "7   eur radiol. 2020 feb;30(2):1113-1126. doi: 10....   \n",
      "8   diagn interv imaging. 2019 apr;100(4):199-209....   \n",
      "9   diagn interv imaging. 2019 may;100(5):295-302....   \n",
      "10  eur radiol. 2019 aug;29(8):4503-4513. doi: 10....   \n",
      "11  rmd open. 2018 jan 12;4(1):e000586. doi: 10.11...   \n",
      "12  orthop traumatol surg res. 2017 oct;103(6):829...   \n",
      "13  rheumatology (oxford). 2017 oct 1;56(10):1661....   \n",
      "\n",
      "                                                   AB  \n",
      "0   background: as many other european countries, ...  \n",
      "1   purpose: the purpose of this study was to iden...  \n",
      "2   background: our aim was to describe the charac...  \n",
      "3                                                 NaN  \n",
      "4   objective: the medical world is continuously e...  \n",
      "5   objectives: to determine the prevalence of bon...  \n",
      "6   background: the benefit of an intradiscal inje...  \n",
      "7   purpose: to determine the margins of non-infer...  \n",
      "8   purpose: the goal of this data challenge was t...  \n",
      "9   purpose: to assess the distribution of bone le...  \n",
      "10  purpose: to compare the diagnostic accuracy of...  \n",
      "11  recognition of axial spondyloarthritis (spa) r...  \n",
      "12  introduction: coracoid bone graft transfer has...  \n",
      "13                                                NaN  \n"
     ]
    }
   ],
   "source": [
    "# Initial development for DicomFile\n",
    "\n",
    "# Import classes and methods\n",
    "from pybrors.pubmed import PubmedData\n",
    "\n",
    "# Create file instance\n",
    "tmp = PubmedData(file_path=\"../data/pubmed/references_cyteval.pubmed\")\n",
    "print(tmp)\n",
    "print(tmp.articles)\n"
   ]
  },
  {
   "cell_type": "code",
   "execution_count": 11,
   "metadata": {},
   "outputs": [
    {
     "name": "stdout",
     "output_type": "stream",
     "text": [
      "<pybrors.pubmed.data.PubmedData object at 0x10741d8d0>\n",
      "(70, 9)\n"
     ]
    }
   ],
   "source": [
    "tmp  = PubmedData(file_path=\"../data/pubmed/references_cyteval.pubmed\")\n",
    "tmp += PubmedData(file_path=\"../data/pubmed/references_millet.pubmed\")\n",
    "tmp += PubmedData(file_path=\"../data/pubmed/references_taourel.pubmed\")\n",
    "print(tmp)\n",
    "print(tmp.articles.shape)"
   ]
  }
 ],
 "metadata": {
  "kernelspec": {
   "display_name": "Python 3",
   "language": "python",
   "name": "python3"
  },
  "language_info": {
   "codemirror_mode": {
    "name": "ipython",
    "version": 3
   },
   "file_extension": ".py",
   "mimetype": "text/x-python",
   "name": "python",
   "nbconvert_exporter": "python",
   "pygments_lexer": "ipython3",
   "version": "3.10.12"
  },
  "orig_nbformat": 4
 },
 "nbformat": 4,
 "nbformat_minor": 2
}
