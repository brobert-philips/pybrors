{
 "cells": [
  {
   "cell_type": "code",
   "execution_count": null,
   "metadata": {},
   "outputs": [],
   "source": [
    "# Initial development for DicomFile\n",
    "\n",
    "# Import classes and methods\n",
    "from pybrors.dicom import DicomFile\n",
    "\n",
    "# Create file instance\n",
    "tmp = DicomFile(file_path=\"../data/dicom/dicom_img_file.dcm\")\n",
    "print(tmp)\n",
    "print(tmp.dataset[\"PatientName\"].value)\n",
    "\n",
    "# Anonymize DICOM file\n",
    "if tmp.anonymize():\n",
    "    print(\"DICOM has been anonymized.\")\n",
    "else:\n",
    "    print(\"DICOM has not been anonymized.\")\n",
    "\n",
    "# Display anonymized file information\n",
    "print(tmp)\n",
    "print(tmp.dataset[\"PatientName\"])"
   ]
  },
  {
   "cell_type": "code",
   "execution_count": null,
   "metadata": {},
   "outputs": [],
   "source": [
    "# Initial development for DicomDir\n",
    "\n",
    "# Import packages and submodules\n",
    "import time\n",
    "\n",
    "# Import classes and methods\n",
    "from pybrors.dicom import DicomDir\n",
    "\n",
    "start_time = time.perf_counter()\n",
    "\n",
    "# Create file instance\n",
    "tmp = DicomDir(dir_path=\"../data/dicom\")\n",
    "# print(tmp)\n",
    "# print(tmp.dicom_df)\n",
    "\n",
    "# Anonymize DICOM file\n",
    "if tmp.anonymize():\n",
    "    print(\"DICOM directory has been anonymized.\")\n",
    "else:\n",
    "    print(\"DICOM directory has not been anonymized.\")\n",
    "\n",
    "end_time   = time.perf_counter()\n",
    "print(\"Runtime: %0.4f seconds\" % (end_time - start_time))"
   ]
  },
  {
   "cell_type": "code",
   "execution_count": null,
   "metadata": {},
   "outputs": [],
   "source": [
    "# Initial development of DicomData\n",
    "\n",
    "# Import classes and methods\n",
    "from pybrors.dicom import DicomData\n",
    "from matplotlib import pyplot\n",
    "\n",
    "# Create file data instance\n",
    "tmp = DicomData(file_path=\"../data/dicom/dicom_img_file.dcm\")\n",
    "print(tmp.file_list)\n",
    "print(tmp.file_dir)\n",
    "print(tmp.dataset)\n",
    "pyplot.imshow(tmp.data, interpolation=\"nearest\", cmap=\"gray\")\n"
   ]
  },
  {
   "cell_type": "code",
   "execution_count": null,
   "metadata": {},
   "outputs": [],
   "source": [
    "# Anonymize DICOM directory using rust library\n",
    "\n",
    "# Import packages and submodules\n",
    "import os\n",
    "import time\n",
    "\n",
    "# Import classes and methods\n",
    "from pybrors import rust_lib\n",
    "from pybrors.dicom import DicomDir\n",
    "\n",
    "# Anonymize DICOM directory\n",
    "start_time = time.perf_counter()\n",
    "tmp        = DicomDir(dir_path=\"../data/dicom\")\n",
    "rust_lib.anonymize_dicomdir(tmp.file_list, os.path.join(tmp.dir_path, \"anonymized\"))\n",
    "end_time   = time.perf_counter()\n",
    "print(\"Runtime: %0.4f seconds\" % (end_time - start_time))"
   ]
  },
  {
   "cell_type": "code",
   "execution_count": null,
   "metadata": {},
   "outputs": [],
   "source": [
    "# Initial development of DicomData\n",
    "\n",
    "# Import classes and methods\n",
    "from pybrors.dicom import DicomData\n",
    "from matplotlib import pyplot\n",
    "\n",
    "# Create file data instance for a folder\n",
    "tmp = DicomData(dir_path=\"../data/dicom/dicom_exam/CT/FatFraction\")\n",
    "print(tmp.file_list)\n",
    "print(tmp.file_dir)\n",
    "print(tmp.dataset)\n",
    "pyplot.imshow(tmp.data[:, :, 0], interpolation=\"nearest\", cmap=\"gray\")\n"
   ]
  }
 ],
 "metadata": {
  "kernelspec": {
   "display_name": "Python 3",
   "language": "python",
   "name": "python3"
  },
  "language_info": {
   "codemirror_mode": {
    "name": "ipython",
    "version": 3
   },
   "file_extension": ".py",
   "mimetype": "text/x-python",
   "name": "python",
   "nbconvert_exporter": "python",
   "pygments_lexer": "ipython3",
   "version": "3.10.12"
  },
  "orig_nbformat": 4
 },
 "nbformat": 4,
 "nbformat_minor": 2
}
