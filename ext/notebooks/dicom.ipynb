{
 "cells": [
  {
   "cell_type": "code",
   "execution_count": null,
   "metadata": {},
   "outputs": [],
   "source": [
    "# Initial development for DicomFile\n",
    "\n",
    "# Import classes and methods\n",
    "from pybrors.dicom import DicomFile\n",
    "\n",
    "# Create file instance\n",
    "dicom_img = DicomFile(file_path=\"../data/dicom/dicom_img_file.dcm\")\n",
    "print(dicom_img)\n",
    "print(dicom_img.dataset[\"PatientName\"].value)\n",
    "\n",
    "# Anonymize DICOM file\n",
    "if dicom_img.anonymize():\n",
    "    print(\"DICOM has been anonymized.\")\n",
    "else:\n",
    "    print(\"DICOM has not been anonymized.\")\n",
    "\n",
    "# Display anonymized file information\n",
    "print(dicom_img)\n",
    "print(dicom_img.dataset[\"PatientName\"])"
   ]
  },
  {
   "cell_type": "code",
   "execution_count": null,
   "metadata": {},
   "outputs": [],
   "source": [
    "# Initial development for DicomDir\n",
    "\n",
    "# Import packages and submodules\n",
    "import time\n",
    "\n",
    "# Import classes and methods\n",
    "from pybrors.dicom import DicomDir\n",
    "\n",
    "start_time = time.perf_counter()\n",
    "\n",
    "# Create file instance\n",
    "dicom_dir = DicomDir(dir_path=\"../data/dicom\")\n",
    "# print(dicom_dir)\n",
    "# print(dicom_dir.dicom_df)\n",
    "\n",
    "# Anonymize DICOM file\n",
    "if dicom_dir.anonymize():\n",
    "    print(\"DICOM directory has been anonymized.\")\n",
    "else:\n",
    "    print(\"DICOM directory has not been anonymized.\")\n",
    "\n",
    "end_time   = time.perf_counter()\n",
    "print(\"Runtime: %0.4f seconds\" % (end_time - start_time))"
   ]
  },
  {
   "cell_type": "code",
   "execution_count": null,
   "metadata": {},
   "outputs": [],
   "source": [
    "# Initial development of DicomData\n",
    "\n",
    "# Import classes and methods\n",
    "from pybrors.dicom import DicomData\n",
    "from matplotlib import pyplot\n",
    "\n",
    "# Create file data instance\n",
    "dicom_img = DicomData(file_path=\"../data/dicom/dicom_sbi_file.dcm\")\n",
    "print(dicom_img.file_list)\n",
    "print(dicom_img.file_dir)\n",
    "print(dicom_img.dataset)\n",
    "pyplot.imshow(dicom_img.data, interpolation=\"nearest\", cmap=\"gray\")\n"
   ]
  },
  {
   "cell_type": "code",
   "execution_count": null,
   "metadata": {},
   "outputs": [],
   "source": [
    "# Anonymize DICOM directory using rust library\n",
    "\n",
    "# Import packages and submodules\n",
    "import os\n",
    "import time\n",
    "\n",
    "# Import classes and methods\n",
    "from pybrors import rust_lib\n",
    "from pybrors.dicom import DicomDir\n",
    "\n",
    "# Anonymize DICOM directory\n",
    "start_time = time.perf_counter()\n",
    "dicom_dir        = DicomDir(dir_path=\"../data/dicom\")\n",
    "rust_lib.anonymize_dicomdir(\n",
    "    dicom_dir.file_list, os.path.join(dicom_dir.dir_path, \"anonymized\"))\n",
    "end_time   = time.perf_counter()\n",
    "print(\"Runtime: %0.4f seconds\" % (end_time - start_time))"
   ]
  },
  {
   "cell_type": "code",
   "execution_count": null,
   "metadata": {},
   "outputs": [],
   "source": [
    "# Initial development of DicomData\n",
    "\n",
    "# Import classes and methods\n",
    "from pybrors.dicom import DicomData\n",
    "from matplotlib import pyplot\n",
    "\n",
    "# Create file data instance for a folder\n",
    "dicom_dir = DicomData(dir_path=\"../data/dicom/dicom_exam/CT/FatFraction\")\n",
    "print(dicom_dir.file_list)\n",
    "print(dicom_dir.file_dir)\n",
    "print(dicom_dir.dataset)\n",
    "pyplot.imshow(dicom_dir.data[:, :, 0], interpolation=\"nearest\", cmap=\"gray\")\n"
   ]
  },
  {
   "cell_type": "code",
   "execution_count": null,
   "metadata": {},
   "outputs": [],
   "source": [
    "# Initial development for SbiFile\n",
    "\n",
    "# Import classes and methods\n",
    "from pybrors.dicom import SbiFile\n",
    "from matplotlib import pyplot\n",
    "\n",
    "# Create file instance\n",
    "dicom_img = SbiFile(file_path=\"../data/dicom/dicom_sbi_file.dcm\")\n",
    "exp_maps = dicom_img.generate_exponential()\n",
    "# pyplot.imshow(exp_maps[:,:,0], interpolation=\"nearest\", cmap=\"gray\")"
   ]
  },
  {
   "cell_type": "code",
   "execution_count": null,
   "metadata": {},
   "outputs": [],
   "source": [
    "from numpy import min, max\n",
    "idx = 2\n",
    "print(min(exp_maps[:,:,idx]))\n",
    "print(max(exp_maps[:,:,idx]))\n",
    "pyplot.imshow(exp_maps[:,:,idx], interpolation=\"nearest\", cmap=\"jet\")\n"
   ]
  },
  {
   "cell_type": "code",
   "execution_count": null,
   "metadata": {},
   "outputs": [],
   "source": [
    "# Initial development for SbiFile\n",
    "\n",
    "# Import classes and methods\n",
    "from pybrors.dicom import SbiFile\n",
    "from pybrors.dicom import DicomData\n",
    "from matplotlib import pyplot\n",
    "\n",
    "# Create file instance\n",
    "dicom_img = SbiFile(file_path=\"../data/dicom/dicom_sbi_file.dcm\")\n",
    "dicom_img.export_exp_maps()\n"
   ]
  },
  {
   "cell_type": "code",
   "execution_count": null,
   "metadata": {},
   "outputs": [],
   "source": [
    "dicom_img = DicomData(file_path=\"../data/dicom/dicom_sbi_file_ec.dcm\")\n",
    "pyplot.imshow(dicom_img.data, interpolation=\"nearest\", cmap=\"jet\")\n",
    "\n"
   ]
  }
 ],
 "metadata": {
  "kernelspec": {
   "display_name": "Python 3",
   "language": "python",
   "name": "python3"
  },
  "language_info": {
   "codemirror_mode": {
    "name": "ipython",
    "version": 3
   },
   "file_extension": ".py",
   "mimetype": "text/x-python",
   "name": "python",
   "nbconvert_exporter": "python",
   "pygments_lexer": "ipython3",
   "version": "3.10.11"
  },
  "orig_nbformat": 4
 },
 "nbformat": 4,
 "nbformat_minor": 2
}
