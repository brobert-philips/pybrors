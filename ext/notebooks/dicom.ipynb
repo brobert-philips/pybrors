{
 "cells": [
  {
   "cell_type": "code",
   "execution_count": 1,
   "metadata": {},
   "outputs": [
    {
     "name": "stderr",
     "output_type": "stream",
     "text": [
      "2023-07-07 09:23:40.349 python[55188:1565022] +[CATransaction synchronize] called within transaction\n"
     ]
    },
    {
     "name": "stdout",
     "output_type": "stream",
     "text": [
      "GenericFile(file_name: dicom.ipynb ; file_dir: /Users/brobert/Library/CloudStorage/OneDrive-Philips/Documents/Programs/pybrors/ext/notebooks)\n",
      "/Users/brobert/Library/CloudStorage/OneDrive-Philips/Documents/Programs/pybrors/ext/notebooks/dicom.ipynb\n",
      "/Users/brobert/Library/CloudStorage/OneDrive-Philips/Documents/Programs/pybrors/ext/notebooks\n",
      "dicom.ipynb\n",
      ".ipynb\n"
     ]
    }
   ],
   "source": [
    "# Initial development\n",
    "\n",
    "# Import classes and methods\n",
    "from pybrors.utils import GenericDir, GenericFile\n",
    "\n",
    "# Create file instance\n",
    "tmp = GenericFile()\n",
    "print(tmp)\n",
    "print(tmp.file_path)\n",
    "print(tmp.file_dir)\n",
    "print(tmp.file_name)\n",
    "print(tmp.file_ext)\n",
    "\n",
    "# Create directory instance\n",
    "tmp = GenericDir()\n",
    "print(tmp)\n"
   ]
  },
  {
   "cell_type": "code",
   "execution_count": null,
   "metadata": {},
   "outputs": [],
   "source": []
  }
 ],
 "metadata": {
  "kernelspec": {
   "display_name": "Python 3",
   "language": "python",
   "name": "python3"
  },
  "language_info": {
   "codemirror_mode": {
    "name": "ipython",
    "version": 3
   },
   "file_extension": ".py",
   "mimetype": "text/x-python",
   "name": "python",
   "nbconvert_exporter": "python",
   "pygments_lexer": "ipython3",
   "version": "3.10.10"
  },
  "orig_nbformat": 4
 },
 "nbformat": 4,
 "nbformat_minor": 2
}
