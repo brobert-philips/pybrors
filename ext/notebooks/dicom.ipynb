{
 "cells": [
  {
   "cell_type": "code",
   "execution_count": null,
   "metadata": {},
   "outputs": [],
   "source": [
    "# Initial development for DicomFile\n",
    "\n",
    "# Import classes and methods\n",
    "from pybrors.dicom import DicomFile\n",
    "\n",
    "# Create file instance\n",
    "tmp = DicomFile(file_path=\"../data/dicom/dicom_img_file.dcm\")\n",
    "print(tmp)\n",
    "print(tmp.dataset[\"PatientName\"].value)\n",
    "\n",
    "# Anonymize DICOM file\n",
    "if tmp.anonymize():\n",
    "    print(\"DICOM has been anonymized.\")\n",
    "else:\n",
    "    print(\"DICOM has not been anonymized.\")\n",
    "\n",
    "# Display anonymized file information\n",
    "print(tmp)\n",
    "print(tmp.dataset[\"PatientName\"])"
   ]
  },
  {
   "cell_type": "code",
   "execution_count": null,
   "metadata": {},
   "outputs": [],
   "source": [
    "# Initial development for DicomDir\n",
    "\n",
    "# Import classes and methods\n",
    "from pybrors.dicom import DicomDir\n",
    "\n",
    "# Create file instance\n",
    "tmp = DicomDir(dir_path=\"../data/dicom\")\n",
    "print(tmp)\n",
    "print(tmp.dicom_df)\n",
    "\n",
    "# Anonymize DICOM file\n",
    "if tmp.anonymize():\n",
    "    print(\"DICOM directory has been anonymized.\")\n",
    "else:\n",
    "    print(\"DICOM directory has not been anonymized.\")"
   ]
  },
  {
   "cell_type": "code",
   "execution_count": null,
   "metadata": {},
   "outputs": [],
   "source": []
  }
 ],
 "metadata": {
  "kernelspec": {
   "display_name": "Python 3",
   "language": "python",
   "name": "python3"
  },
  "language_info": {
   "codemirror_mode": {
    "name": "ipython",
    "version": 3
   },
   "file_extension": ".py",
   "mimetype": "text/x-python",
   "name": "python",
   "nbconvert_exporter": "python",
   "pygments_lexer": "ipython3",
   "version": "3.10.10"
  },
  "orig_nbformat": 4
 },
 "nbformat": 4,
 "nbformat_minor": 2
}
