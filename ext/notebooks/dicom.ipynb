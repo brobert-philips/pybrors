{
 "cells": [
  {
   "cell_type": "code",
   "execution_count": null,
   "metadata": {},
   "outputs": [],
   "source": [
    "# Initial development\n",
    "\n",
    "# Import classes and methods\n",
    "from pybrors.dicom import DicomFile, DicomDir\n",
    "\n",
    "# Create file instance\n",
    "tmp = DicomFile(file_path=\"../data/dicom/supported_file.dcm\")\n",
    "print(tmp)\n",
    "print(tmp.file_path)\n",
    "print(tmp.file_dir)\n",
    "print(tmp.file_name)\n",
    "print(tmp.file_ext)\n",
    "\n",
    "# Create directory instance\n",
    "tmp = DicomDir(dir_path=\"../data/dicom/dicom_exam\")\n",
    "print(tmp)\n",
    "print(tmp.file_list)\n"
   ]
  },
  {
   "cell_type": "code",
   "execution_count": null,
   "metadata": {},
   "outputs": [],
   "source": []
  }
 ],
 "metadata": {
  "kernelspec": {
   "display_name": "Python 3",
   "language": "python",
   "name": "python3"
  },
  "language_info": {
   "codemirror_mode": {
    "name": "ipython",
    "version": 3
   },
   "file_extension": ".py",
   "mimetype": "text/x-python",
   "name": "python",
   "nbconvert_exporter": "python",
   "pygments_lexer": "ipython3",
   "version": "3.10.10"
  },
  "orig_nbformat": 4
 },
 "nbformat": 4,
 "nbformat_minor": 2
}
