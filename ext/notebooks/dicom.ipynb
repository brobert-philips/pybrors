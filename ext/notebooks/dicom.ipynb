{
 "cells": [
  {
   "cell_type": "code",
   "execution_count": null,
   "metadata": {},
   "outputs": [],
   "source": [
    "# Initial development for DicomFile\n",
    "\n",
    "# Import classes and methods\n",
    "from pybrors.dicom import DicomFile\n",
    "\n",
    "# Create file instance\n",
    "dicom_file = DicomFile(file_path=\"../data/dicom/dicom_img_file.dcm\")\n",
    "print(dicom_file)\n",
    "print(dicom_file.dataset[\"PatientName\"].value)\n",
    "\n",
    "# Anonymize DICOM file\n",
    "if dicom_file.anonymize():\n",
    "    print(\"DICOM has been anonymized.\")\n",
    "else:\n",
    "    print(\"DICOM has not been anonymized.\")\n",
    "\n",
    "# Display anonymized file information\n",
    "print(dicom_file)\n",
    "print(dicom_file.dataset[\"PatientName\"])"
   ]
  },
  {
   "cell_type": "code",
   "execution_count": null,
   "metadata": {},
   "outputs": [],
   "source": [
    "# Initial development for DicomDir\n",
    "\n",
    "# Import packages and submodules\n",
    "import time\n",
    "\n",
    "# Import classes and methods\n",
    "from pybrors.dicom import DicomDir\n",
    "\n",
    "start_time = time.perf_counter()\n",
    "\n",
    "# Create file instance\n",
    "dicom_dir = DicomDir(dir_path=\"../data/dicom\")\n",
    "\n",
    "# Anonymize DICOM file\n",
    "if dicom_dir.anonymize():\n",
    "    print(\"DICOM directory has been anonymized.\")\n",
    "else:\n",
    "    print(\"DICOM directory has not been anonymized.\")\n",
    "\n",
    "end_time   = time.perf_counter()\n",
    "print(\"Runtime: %0.4f seconds\" % (end_time - start_time))"
   ]
  },
  {
   "cell_type": "code",
   "execution_count": null,
   "metadata": {},
   "outputs": [],
   "source": [
    "# Initial development of DicomData\n",
    "\n",
    "# Import classes and methods\n",
    "from pybrors.dicom import DicomData\n",
    "from matplotlib import pyplot\n",
    "\n",
    "# Create file data instance\n",
    "dicom_file = DicomData(file_path=\"../data/dicom/dicom_sbi_file.dcm\")\n",
    "print(dicom_file.file_list)\n",
    "print(dicom_file.file_dir)\n",
    "print(dicom_file.dataset)\n",
    "pyplot.imshow(dicom_file.data, interpolation=\"nearest\", cmap=\"gray\")"
   ]
  },
  {
   "cell_type": "code",
   "execution_count": null,
   "metadata": {},
   "outputs": [],
   "source": [
    "# Anonymize DICOM directory using rust library\n",
    "\n",
    "# Import packages and submodules\n",
    "import os\n",
    "import time\n",
    "\n",
    "# Import classes and methods\n",
    "from pybrors import rust_lib\n",
    "from pybrors.dicom import DicomDir\n",
    "\n",
    "# Anonymize DICOM directory\n",
    "start_time = time.perf_counter()\n",
    "dicom_dir        = DicomDir(dir_path=\"../data/dicom\")\n",
    "rust_lib.anonymize_dicomdir(\n",
    "    dicom_dir.file_list, os.path.join(dicom_dir.dir_path, \"anonymized\"))\n",
    "end_time   = time.perf_counter()\n",
    "print(\"Runtime: %0.4f seconds\" % (end_time - start_time))"
   ]
  },
  {
   "cell_type": "code",
   "execution_count": null,
   "metadata": {},
   "outputs": [],
   "source": [
    "# Initial development of DicomData\n",
    "\n",
    "# Import classes and methods\n",
    "from pybrors.dicom import DicomData\n",
    "from matplotlib import pyplot\n",
    "\n",
    "# Create file data instance for a folder\n",
    "dicom_dir = DicomData(dir_path=\"../data/dicom/dicom_exam/CT/FatFraction\")\n",
    "print(dicom_dir.file_list)\n",
    "print(dicom_dir.file_dir)\n",
    "print(dicom_dir.dataset)\n",
    "pyplot.imshow(dicom_dir.data[:, :, 0], interpolation=\"nearest\", cmap=\"gray\")\n"
   ]
  },
  {
   "cell_type": "code",
   "execution_count": null,
   "metadata": {},
   "outputs": [],
   "source": [
    "# Initial development for SbiFile\n",
    "\n",
    "# Import classes and methods\n",
    "from pybrors.dicom import SbiFile\n",
    "from matplotlib import pyplot\n",
    "\n",
    "# Create file instance\n",
    "dicom_file = SbiFile(file_path=\"../data/dicom/dicom_sbi_file.dcm\")\n",
    "exp_maps = dicom_file.generate_exponential();"
   ]
  },
  {
   "cell_type": "code",
   "execution_count": null,
   "metadata": {},
   "outputs": [],
   "source": [
    "from numpy import min, max\n",
    "idx = 0\n",
    "print(min(exp_maps[:,:,idx]))\n",
    "print(max(exp_maps[:,:,idx]))\n",
    "pyplot.imshow(exp_maps[:,:,idx], interpolation=\"nearest\", cmap=\"jet\")"
   ]
  },
  {
   "cell_type": "code",
   "execution_count": null,
   "metadata": {},
   "outputs": [],
   "source": [
    "# Initial development for SbiFile\n",
    "\n",
    "# Import classes and methods\n",
    "from pybrors.dicom import SbiFile\n",
    "from pybrors.dicom import DicomData\n",
    "from matplotlib import pyplot\n",
    "\n",
    "# Create file instance\n",
    "dicom_file = SbiFile(file_path=\"../data/dicom/dicom_sbi_file.dcm\")\n",
    "dicom_file.export_exp_maps()\n"
   ]
  },
  {
   "cell_type": "code",
   "execution_count": null,
   "metadata": {},
   "outputs": [],
   "source": [
    "dicom_file = DicomData(file_path=\"../data/dicom/dicom_sbi_file_ec.dcm\")\n",
    "pyplot.imshow(dicom_file.data, interpolation=\"nearest\", cmap=\"jet\")"
   ]
  },
  {
   "cell_type": "code",
   "execution_count": null,
   "metadata": {},
   "outputs": [],
   "source": [
    "# Import libraries\n",
    "import lmfit\n",
    "from numpy import arange, exp, stack, zeros, min, max, std, mean, concatenate\n",
    "from pybrors.dicom import SbiFile\n",
    "\n",
    "# Define exponential model\n",
    "def exp_model(energy, mu_0, mu_inf, e_c):\n",
    "    return (mu_0 - mu_inf) * exp(-energy / e_c) + mu_inf\n",
    "\n",
    "# Load SBI File\n",
    "sbi_file = SbiFile(file_path=\"../data/dicom/dicom_sbi_file.dcm\")\n",
    "\n",
    "# Generate MonoE maps\n",
    "energy_range = arange(40., 60., 1.)\n",
    "energy_range = concatenate((energy_range, arange(60., 80., 2.)))\n",
    "energy_range = concatenate((energy_range, arange(80., 120., 5.)))\n",
    "energy_range = concatenate((energy_range, arange(120., 200., 10.)))\n",
    "monoe_stack = [sbi_file.generate_monoe(int(energy)) for energy in energy_range]\n",
    "monoe_stack = stack(monoe_stack, axis=2)\n",
    "\n",
    "# Exponential fit voxel by voxel\n",
    "exp_maps = zeros([monoe_stack.shape[0], monoe_stack.shape[1], 3])\n",
    "std_threshold = max(monoe_stack) * 0.01\n",
    "model = lmfit.Model(exp_model)\n",
    "initial_guess = dict(mu_0=2000., mu_inf=200., e_c=20.)\n",
    "for i in range(monoe_stack.shape[0]):\n",
    "    for j in range(monoe_stack.shape[1]):\n",
    "        tmp_std = std(monoe_stack[i,j,:])\n",
    "        if tmp_std > std_threshold:\n",
    "            results = model.fit(monoe_stack[i,j,:], energy=energy_range, **initial_guess)\n",
    "            exp_maps[i,j,:] = [\n",
    "                results.best_values['mu_0'],\n",
    "                results.best_values['mu_inf'],\n",
    "                results.best_values['e_c']\n",
    "            ]\n",
    "        else:\n",
    "            tmp_mu = mean(monoe_stack[i,j,:])\n",
    "            exp_maps[i,j,:] = [tmp_mu, tmp_mu, 0]\n"
   ]
  },
  {
   "cell_type": "code",
   "execution_count": null,
   "metadata": {},
   "outputs": [],
   "source": [
    "# Import libraries\n",
    "from matplotlib import pyplot\n",
    "\n",
    "print(energy_range.shape)\n",
    "\n",
    "# Visualize\n",
    "idx = 0\n",
    "print(min(exp_maps[:,:,idx]))\n",
    "print(max(exp_maps[:,:,idx]))\n",
    "pyplot.imshow(exp_maps[:,:,idx], interpolation=\"nearest\", cmap=\"jet\")"
   ]
  }
 ],
 "metadata": {
  "kernelspec": {
   "display_name": "Python 3",
   "language": "python",
   "name": "python3"
  },
  "language_info": {
   "codemirror_mode": {
    "name": "ipython",
    "version": 3
   },
   "file_extension": ".py",
   "mimetype": "text/x-python",
   "name": "python",
   "nbconvert_exporter": "python",
   "pygments_lexer": "ipython3",
   "version": "3.10.11"
  },
  "orig_nbformat": 4
 },
 "nbformat": 4,
 "nbformat_minor": 2
}
